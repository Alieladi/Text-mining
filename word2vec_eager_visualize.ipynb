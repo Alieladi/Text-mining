{
 "cells": [
  {
   "cell_type": "code",
   "execution_count": 1,
   "metadata": {},
   "outputs": [],
   "source": [
    "import os\n",
    "os.environ['TF_CPP_MIN_LOG_LEVEL']='2'\n",
    "\n",
    "import numpy as np\n",
    "import tensorflow as tf\n",
    "import tensorflow.contrib.eager as tfe\n",
    "\n",
    "import utils\n",
    "import word2vec_utils\n",
    "\n",
    "tf.enable_eager_execution()"
   ]
  },
  {
   "cell_type": "code",
   "execution_count": 2,
   "metadata": {},
   "outputs": [],
   "source": [
    "# Model hyperparameters\n",
    "VOCAB_SIZE = 50000\n",
    "BATCH_SIZE = 128\n",
    "EMBED_SIZE = 128            # dimension of the word embedding vectors\n",
    "SKIP_WINDOW = 1             # the context window\n",
    "NUM_SAMPLED = 64            # number of negative examples to sample\n",
    "LEARNING_RATE = 1.0\n",
    "NUM_TRAIN_STEPS = 100000\n",
    "VISUAL_FLD = 'visualization'\n",
    "SKIP_STEP = 5000\n",
    "\n",
    "# Parameters for downloading data\n",
    "DOWNLOAD_URL = 'http://mattmahoney.net/dc/text8.zip'\n",
    "EXPECTED_BYTES = 31344016"
   ]
  },
  {
   "cell_type": "code",
   "execution_count": 4,
   "metadata": {},
   "outputs": [],
   "source": [
    "class Word2Vec(object):\n",
    "  def __init__(self, vocab_size, embed_size, num_sampled=NUM_SAMPLED):\n",
    "    self.vocab_size = vocab_size\n",
    "    self.num_sampled = num_sampled\n",
    "    self.embed_size = embed_size\n",
    "    # Create the variables: an embedding matrix, nce_weight, and nce_bias\n",
    "    self.embed_matrix = tfe.Variable(tf.random_uniform([self.vocab_size, self.embed_size]))\n",
    "    self.nce_weight = tfe.Variable(tf.truncated_normal([self.vocab_size, self.embed_size], \\\n",
    "                                                       stddev=1.0 / (self.embed_size ** 0.5)))\n",
    "    self.nce_bias = tfe.Variable(tf.zeros([VOCAB_SIZE]))\n",
    "\n",
    "  def compute_loss(self, center_words, target_words):\n",
    "    \"\"\"Computes the forward pass of word2vec with the NCE loss.\"\"\" \n",
    "    # Look up the embeddings for the center words\n",
    "    self.embed = tf.nn.embedding_lookup(self.embed_matrix, center_words, name='embedding')\n",
    "\n",
    "    # Compute the loss, using tf.reduce_mean and tf.nn.nce_loss\n",
    "    loss = tf.reduce_mean(tf.nn.nce_loss(weights=self.nce_weight, \n",
    "                                                biases=self.nce_bias, \n",
    "                                                labels=target_words, \n",
    "                                                inputs=self.embed, \n",
    "                                                num_sampled=self.num_sampled, \n",
    "                                                num_classes=self.vocab_size), name='loss')\n",
    "    return loss\n",
    "\n",
    "def gen():\n",
    "  yield from word2vec_utils.batch_gen(DOWNLOAD_URL, EXPECTED_BYTES,\n",
    "                                      VOCAB_SIZE, BATCH_SIZE, SKIP_WINDOW,\n",
    "                                      VISUAL_FLD)\n"
   ]
  },
  {
   "cell_type": "code",
   "execution_count": 27,
   "metadata": {},
   "outputs": [
    {
     "data": {
      "text/plain": [
       "(TensorShape([Dimension(50000), Dimension(128)]), 0.0, 4.9564548)"
      ]
     },
     "execution_count": 27,
     "metadata": {},
     "output_type": "execute_result"
    }
   ],
   "source": [
    "model.embed_matrix.shape, total_loss, batch_loss.numpy()"
   ]
  },
  {
   "cell_type": "code",
   "execution_count": 26,
   "metadata": {},
   "outputs": [
    {
     "data": {
      "text/plain": [
       "<tf.Tensor: id=39544390, shape=(), dtype=float32, numpy=4.9564548>"
      ]
     },
     "execution_count": 26,
     "metadata": {},
     "output_type": "execute_result"
    }
   ],
   "source": [
    "batch_loss"
   ]
  },
  {
   "cell_type": "code",
   "execution_count": 25,
   "metadata": {},
   "outputs": [
    {
     "data": {
      "text/plain": [
       "<tf.Variable 'Variable:0' shape=(50000, 128) dtype=float32, numpy=\n",
       "array([[ 0.42704237,  0.41064057,  0.571266  , ...,  0.10017863,\n",
       "         0.33000904,  0.7825291 ],\n",
       "       [ 0.406902  ,  0.5639415 ,  0.67464346, ..., -0.27519652,\n",
       "         0.32224768,  0.41596514],\n",
       "       [ 0.6889662 ,  0.29735434,  0.8806458 , ..., -0.03277445,\n",
       "        -0.71932846,  0.7661115 ],\n",
       "       ...,\n",
       "       [ 0.18792987,  0.39667308,  0.3776164 , ...,  0.10308731,\n",
       "         0.7350985 ,  0.12254226],\n",
       "       [ 0.03663949,  0.11622635,  0.2128198 , ...,  0.23194492,\n",
       "         0.15022887,  0.3141573 ],\n",
       "       [ 0.29074836,  0.6719403 ,  0.5825194 , ...,  0.45320237,\n",
       "         0.17456162,  0.19768763]], dtype=float32)>"
      ]
     },
     "execution_count": 25,
     "metadata": {},
     "output_type": "execute_result"
    }
   ],
   "source": [
    "model.embed_matrix"
   ]
  },
  {
   "cell_type": "code",
   "execution_count": 22,
   "metadata": {},
   "outputs": [
    {
     "name": "stdout",
     "output_type": "stream",
     "text": [
      "Average loss at step 4999:  65.3\n",
      "Average loss at step 9999:  18.3\n",
      "Average loss at step 14999:   9.6\n",
      "Average loss at step 19999:   6.8\n",
      "Average loss at step 24999:   5.7\n",
      "Average loss at step 29999:   5.2\n",
      "Average loss at step 34999:   5.0\n",
      "Average loss at step 39999:   4.8\n",
      "Average loss at step 44999:   4.8\n",
      "Average loss at step 49999:   4.8\n",
      "Average loss at step 54999:   4.7\n",
      "Average loss at step 59999:   4.7\n",
      "Average loss at step 64999:   4.6\n",
      "Average loss at step 69999:   4.7\n",
      "Average loss at step 74999:   4.6\n",
      "Average loss at step 79999:   4.7\n",
      "Average loss at step 84999:   4.7\n",
      "Average loss at step 89999:   4.7\n",
      "Average loss at step 94999:   4.6\n",
      "Average loss at step 99999:   4.6\n"
     ]
    }
   ],
   "source": [
    "# main\n",
    "dataset = tf.data.Dataset.from_generator(gen, (tf.int32, tf.int32),\n",
    "                          (tf.TensorShape([BATCH_SIZE]),\n",
    "                          tf.TensorShape([BATCH_SIZE, 1])))\n",
    "optimizer = tf.train.GradientDescentOptimizer(LEARNING_RATE)\n",
    "# Create the model\n",
    "model = Word2Vec(VOCAB_SIZE, EMBED_SIZE, NUM_SAMPLED)\n",
    "\n",
    "# Create the gradients function, using `tfe.implicit_value_and_gradients`\n",
    "\n",
    "grad_fn = tfe.implicit_value_and_gradients(model.compute_loss)\n",
    "\n",
    "total_loss = 0.0  # for average loss in the last SKIP_STEP steps\n",
    "num_train_steps = 0\n",
    "while num_train_steps < NUM_TRAIN_STEPS:\n",
    "    for center_words, target_words in tfe.Iterator(dataset):\n",
    "        if num_train_steps >= NUM_TRAIN_STEPS:\n",
    "            break\n",
    "\n",
    "        # Compute the loss and gradients, and take an optimization step.\n",
    "        batch_loss, grads = grad_fn(center_words, target_words)\n",
    "        optimizer.apply_gradients(grads)\n",
    "        total_loss += batch_loss\n",
    "\n",
    "        if (num_train_steps + 1) % SKIP_STEP == 0:\n",
    "            print('Average loss at step {}: {:5.1f}'.format(num_train_steps, total_loss / SKIP_STEP))\n",
    "            total_loss = 0.0\n",
    "        num_train_steps += 1"
   ]
  },
  {
   "cell_type": "code",
   "execution_count": null,
   "metadata": {},
   "outputs": [],
   "source": [
    "!!!!!!!!!!!!!!! Attention !!!!!!!!!!!!!!!!!!!!!!!!!!!\n",
    "# RMK: similarities between words are evaluated with \n",
    "# the cosine similarity between their embeddings (low-dim projections)\n",
    "# similarity = tf.matmul(valid_embeddings, normalized_embeddings, transpose_b=True)\n",
    "#     or      = tf.matmul(valid_embeddings, tf.transpose(normalized_embeddings)"
   ]
  },
  {
   "cell_type": "code",
   "execution_count": 28,
   "metadata": {},
   "outputs": [],
   "source": [
    "embeddings = model.embed_matrix\n",
    "norm = tf.sqrt(tf.reduce_sum(tf.square(embeddings), axis=1, keep_dims=True))\n",
    "normalized_embeddings = embeddings / norm\n",
    "final_embeddings = normalized_embeddings.numpy()"
   ]
  },
  {
   "cell_type": "code",
   "execution_count": 29,
   "metadata": {},
   "outputs": [],
   "source": [
    "from  sklearn.manifold import TSNE\n",
    "tsne = TSNE(perplexity=30, n_components=2, init='pca', n_iter=5000)"
   ]
  },
  {
   "cell_type": "code",
   "execution_count": 30,
   "metadata": {},
   "outputs": [],
   "source": [
    "plot_only = 200\n",
    "low_dim_embs = tsne.fit_transform(final_embeddings[:plot_only,:])"
   ]
  },
  {
   "cell_type": "code",
   "execution_count": 61,
   "metadata": {},
   "outputs": [],
   "source": [
    "# For labels:\n",
    "fwords = open(os.path.join(\"visualization\", 'vocab.tsv'), 'r')\n",
    "words = [word.rstrip() for word in fwords]\n",
    "labels = [word.rstrip() for word in fwords.readlines(plot_only)]\n",
    "# labels = [vocabulary[i] for i in range(plot_only)]\n",
    "fwords.close()"
   ]
  },
  {
   "cell_type": "code",
   "execution_count": 46,
   "metadata": {},
   "outputs": [
    {
     "data": {
      "text/plain": [
       "['UNK', 'the', 'of', 'and', 'one', 'in', 'a', 'to', 'zero', 'nine']"
      ]
     },
     "execution_count": 46,
     "metadata": {},
     "output_type": "execute_result"
    }
   ],
   "source": [
    "labels[:10]"
   ]
  },
  {
   "cell_type": "code",
   "execution_count": 86,
   "metadata": {},
   "outputs": [],
   "source": [
    "from matplotlib import pyplot as plt\n",
    "def plot_with_labels(embeddings, labels):\n",
    "  assert embeddings.shape[0] >= len(labels), 'More labels than embeddings'\n",
    "  plt.figure(figsize=(10,10))  # in inches\n",
    "  for i, label in enumerate(labels):\n",
    "    x, y = embeddings[i,:]\n",
    "    plt.scatter(x, y)\n",
    "    plt.annotate(label, xy=(x, y), xytext=(5, 2), textcoords='offset points',\n",
    "                   ha='right', va='bottom')\n",
    "  plt.show()"
   ]
  },
  {
   "cell_type": "code",
   "execution_count": 50,
   "metadata": {},
   "outputs": [
    {
     "data": {
      "text/plain": [
       "(200, 2)"
      ]
     },
     "execution_count": 50,
     "metadata": {},
     "output_type": "execute_result"
    }
   ],
   "source": [
    "low_dim_embs.shape"
   ]
  },
  {
   "cell_type": "code",
   "execution_count": 58,
   "metadata": {},
   "outputs": [
    {
     "data": {
      "image/png": "[encoded data removed]",
      "text/plain": [
       "<Figure size 720x720 with 1 Axes>"
      ]
     },
     "metadata": {
      "needs_background": "light"
     },
     "output_type": "display_data"
    }
   ],
   "source": [
    "plot_with_labels(low_dim_embs, labels)\n",
    "# you can see numbers next to each other, prepositions, pronouns ..."
   ]
  },
  {
   "cell_type": "code",
   "execution_count": 112,
   "metadata": {},
   "outputs": [
    {
     "name": "stdout",
     "output_type": "stream",
     "text": [
      "[4911]\n"
     ]
    }
   ],
   "source": [
    "print([i for i,j in enumerate(words) if j=='tokyo'])"
   ]
  },
  {
   "cell_type": "code",
   "execution_count": 114,
   "metadata": {},
   "outputs": [],
   "source": [
    "cities = [\"rome\",\"madrid\",\"paris\",\"marrakech\",\"finland\",\"uae\",\"usa\",\"japan\",\"china\"]\n",
    "countries = [\"italy\",\"spain\",\"france\",\"morocco\",\"helsinki\",\"dubai\",\"washington\",\"tokyo\",\"beijing\"]\n",
    "places = cities + countries\n",
    "places_id = [i for i,j in enumerate(words) if j in places]"
   ]
  },
  {
   "cell_type": "code",
   "execution_count": 95,
   "metadata": {},
   "outputs": [
    {
     "name": "stdout",
     "output_type": "stream",
     "text": [
      "[938, 1055, 4729, 21199]\n",
      "[303, 804, 843, 3385]\n"
     ]
    }
   ],
   "source": [
    "print([i for i,j in enumerate(words) if j in cities])\n",
    "print([i for i,j in enumerate(words) if j in countries])\n",
    "places_id = [i for i,j in enumerate(words) if j in places]"
   ]
  },
  {
   "cell_type": "code",
   "execution_count": 115,
   "metadata": {},
   "outputs": [],
   "source": [
    "places_embs = tsne.fit_transform(final_embeddings[places_id,:])"
   ]
  },
  {
   "cell_type": "code",
   "execution_count": 117,
   "metadata": {},
   "outputs": [],
   "source": [
    "from matplotlib import pyplot as plt\n",
    "def plot_to_places(embeddings, labels):\n",
    "  assert embeddings.shape[0] >= len(labels), 'More labels than embeddings'\n",
    "  plt.figure(figsize=(10,10))  # in inches\n",
    "  for i, label in enumerate(labels):\n",
    "    x, y = embeddings[i,:]\n",
    "    plt.scatter(x, y)\n",
    "    plt.annotate(label, xy=(x, y), xytext=(5, 2), textcoords='offset points',\n",
    "                   ha='right', va='bottom')\n",
    "  plt.show()"
   ]
  },
  {
   "cell_type": "code",
   "execution_count": 116,
   "metadata": {},
   "outputs": [
    {
     "data": {
      "image/png": "[encoded data removed]",
      "text/plain": [
       "<Figure size 720x720 with 1 Axes>"
      ]
     },
     "metadata": {
      "needs_background": "light"
     },
     "output_type": "display_data"
    }
   ],
   "source": [
    "plot_to_places(places_embs, places)"
   ]
  }
 ],
 "metadata": {
  "kernelspec": {
   "display_name": "Python 3",
   "language": "python",
   "name": "python3"
  },
  "language_info": {
   "codemirror_mode": {
    "name": "ipython",
    "version": 3
   },
   "file_extension": ".py",
   "mimetype": "text/x-python",
   "name": "python",
   "nbconvert_exporter": "python",
   "pygments_lexer": "ipython3",
   "version": "3.5.3"
  }
 },
 "nbformat": 4,
 "nbformat_minor": 2
}
